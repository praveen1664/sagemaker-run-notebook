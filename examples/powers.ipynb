{
 "cells": [
  {
   "cell_type": "markdown",
   "metadata": {},
   "source": [
    "# Compute powers with numpy and matplotlib\n",
    "\n",
    "This is a simple notebook that you can run with parameters to see SageMaker notebook execution in action.\n",
    "\n",
    "It takes two parameters:\n",
    "\n",
    "* _n_ the number of points\n",
    "* _p_ the power to raise to\n",
    "\n",
    "This will compute $ i^p $ for $ i $ in $ [0,n) $ and draw a graph of the result."
   ]
  },
  {
   "cell_type": "markdown",
   "metadata": {},
   "source": [
    "First, show the date so you can see that it really ran."
   ]
  },
  {
   "cell_type": "code",
   "execution_count": 2,
   "metadata": {},
   "outputs": [
    {
     "name": "stdout",
     "output_type": "stream",
     "text": [
      "Notebook run on 2020-03-13 17:49:12\n"
     ]
    }
   ],
   "source": [
    "from datetime import datetime\n",
    "\n",
    "print(\"Notebook run on {}\".format(datetime.now().strftime(\"%Y-%m-%d %H:%M:%S\")))"
   ]
  },
  {
   "cell_type": "markdown",
   "metadata": {},
   "source": [
    "Set up numpy and matplotlib to display our data the right way"
   ]
  },
  {
   "cell_type": "code",
   "execution_count": 3,
   "metadata": {},
   "outputs": [],
   "source": [
    "import numpy as np\n",
    "\n",
    "%matplotlib inline\n",
    "import matplotlib as mpl\n",
    "import matplotlib.pyplot as plt\n",
    "mpl.rc('axes', labelsize=14)\n",
    "mpl.rc('xtick', labelsize=12)\n",
    "mpl.rc('ytick', labelsize=12)"
   ]
  },
  {
   "cell_type": "markdown",
   "metadata": {},
   "source": [
    "### Parameters\n",
    "\n",
    "The following cell is the _parameter cell_. If you select it and then click the wrench icon (assuming you're using JupyterLab), you can see that it has the `parameters` tag set in it's metadata.\n",
    "\n",
    "Papermill will add a cell after this cell that sets any parameters that you added in the call. Note that it is not necessary to reset all the parameters (_e.g.,_ just setting `p` is fine here to get the same range but a different exponent. See the documentation [Parameterize][parameters] in the Papermill documentation for more information.\n",
    "\n",
    "[parameters]: https://papermill.readthedocs.io/en/latest/usage-parameterize.html"
   ]
  },
  {
   "cell_type": "code",
   "execution_count": 4,
   "metadata": {
    "tags": [
     "parameters"
    ]
   },
   "outputs": [],
   "source": [
    "n = 100\n",
    "p = 3"
   ]
  },
  {
   "cell_type": "markdown",
   "metadata": {},
   "source": [
    "### Computation\n",
    "\n",
    "Now use some simple numpy to compute the values and then use matplotlib to draw the graph"
   ]
  },
  {
   "cell_type": "code",
   "execution_count": 5,
   "metadata": {},
   "outputs": [],
   "source": [
    "x = np.array(range(n))"
   ]
  },
  {
   "cell_type": "code",
   "execution_count": 6,
   "metadata": {},
   "outputs": [],
   "source": [
    "y = np.power(x, p)"
   ]
  },
  {
   "cell_type": "code",
   "execution_count": 7,
   "metadata": {},
   "outputs": [
    {
     "data": {
      "text/plain": [
       "array([     0,      1,      8,     27,     64,    125,    216,    343,\n",
       "          512,    729,   1000,   1331,   1728,   2197,   2744,   3375,\n",
       "         4096,   4913,   5832,   6859,   8000,   9261,  10648,  12167,\n",
       "        13824,  15625,  17576,  19683,  21952,  24389,  27000,  29791,\n",
       "        32768,  35937,  39304,  42875,  46656,  50653,  54872,  59319,\n",
       "        64000,  68921,  74088,  79507,  85184,  91125,  97336, 103823,\n",
       "       110592, 117649, 125000, 132651, 140608, 148877, 157464, 166375,\n",
       "       175616, 185193, 195112, 205379, 216000, 226981, 238328, 250047,\n",
       "       262144, 274625, 287496, 300763, 314432, 328509, 343000, 357911,\n",
       "       373248, 389017, 405224, 421875, 438976, 456533, 474552, 493039,\n",
       "       512000, 531441, 551368, 571787, 592704, 614125, 636056, 658503,\n",
       "       681472, 704969, 729000, 753571, 778688, 804357, 830584, 857375,\n",
       "       884736, 912673, 941192, 970299])"
      ]
     },
     "execution_count": 7,
     "metadata": {},
     "output_type": "execute_result"
    }
   ],
   "source": [
    "y"
   ]
  },
  {
   "cell_type": "code",
   "execution_count": 8,
   "metadata": {},
   "outputs": [
    {
     "data": {
      "text/plain": [
       "[<matplotlib.lines.Line2D at 0x11b93bbe0>]"
      ]
     },
     "execution_count": 8,
     "metadata": {},
     "output_type": "execute_result"
    },
    {
     "data": {
      "image/png": "[encoded data removed]",
      "text/plain": [
       "<Figure size 432x288 with 1 Axes>"
      ]
     },
     "metadata": {
      "needs_background": "light"
     },
     "output_type": "display_data"
    }
   ],
   "source": [
    "plt.plot(x, y)"
   ]
  },
  {
   "cell_type": "markdown",
   "metadata": {},
   "source": [
    "### Environment\n",
    "\n",
    "The SageMaker Run Notebook tools will pass through and set up environment variables in the running notebook. You can see what they all are here. Note that this list or the structure of the values may change over time as the tool evolves."
   ]
  },
  {
   "cell_type": "code",
   "execution_count": null,
   "metadata": {},
   "outputs": [],
   "source": [
    "import os\n",
    "import pprint\n",
    "\n",
    "pprint.pprint({k:v for k,v in os.environ.items()})"
   ]
  }
 ],
 "metadata": {
  "kernelspec": {
   "display_name": "Python 3",
   "language": "python",
   "name": "python3"
  },
  "language_info": {
   "codemirror_mode": {
    "name": "ipython",
    "version": 3
   },
   "file_extension": ".py",
   "mimetype": "text/x-python",
   "name": "python",
   "nbconvert_exporter": "python",
   "pygments_lexer": "ipython3",
   "version": "3.8.1"
  },
  "sagemaker_run_notebook": {
   "saved_parameters": [
    {
     "name": "p",
     "value": "0.5"
    },
    {
     "name": "n",
     "value": "20"
    }
   ]
  }
 },
 "nbformat": 4,
 "nbformat_minor": 4
}
